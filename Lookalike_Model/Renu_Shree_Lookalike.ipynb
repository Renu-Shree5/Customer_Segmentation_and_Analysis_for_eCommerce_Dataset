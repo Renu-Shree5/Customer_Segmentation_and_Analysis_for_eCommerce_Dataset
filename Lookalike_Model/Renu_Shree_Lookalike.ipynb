{
 "cells": [
  {
   "cell_type": "code",
   "execution_count": 1,
   "id": "1dd9a2c3-cd31-4830-a5c3-0a81ff093078",
   "metadata": {},
   "outputs": [],
   "source": [
    "import pandas as pd"
   ]
  },
  {
   "cell_type": "markdown",
   "id": "7b402cdf-ed94-4049-8fd6-cde45da4d36f",
   "metadata": {},
   "source": [
    "LOADING DATASETS"
   ]
  },
  {
   "cell_type": "code",
   "execution_count": 2,
   "id": "ec1cd039-2662-4dd9-b67c-0a502f821ea4",
   "metadata": {},
   "outputs": [],
   "source": [
    "customers = pd.read_csv(\"Customers.csv\")\n",
    "products = pd.read_csv(\"Products.csv\")\n",
    "transactions = pd.read_csv(\"Transactions.csv\")"
   ]
  },
  {
   "cell_type": "markdown",
   "id": "1bffabd5-60ad-4b88-aa3a-5933961dfbbf",
   "metadata": {},
   "source": [
    "CHECKING FOR DATA BY DISPLAYING FEW ROWS"
   ]
  },
  {
   "cell_type": "code",
   "execution_count": 3,
   "id": "f2a99562-94b1-4b84-a44d-d9953e2630d1",
   "metadata": {},
   "outputs": [
    {
     "name": "stdout",
     "output_type": "stream",
     "text": [
      "Customers Data\n",
      "  CustomerID        CustomerName         Region  SignupDate\n",
      "0      C0001    Lawrence Carroll  South America  2022-07-10\n",
      "1      C0002      Elizabeth Lutz           Asia  2022-02-13\n",
      "2      C0003      Michael Rivera  South America  2024-03-07\n",
      "3      C0004  Kathleen Rodriguez  South America  2022-10-09\n",
      "4      C0005         Laura Weber           Asia  2022-08-15\n"
     ]
    }
   ],
   "source": [
    "print(\"Customers Data\")\n",
    "print(customers.head())"
   ]
  },
  {
   "cell_type": "code",
   "execution_count": 4,
   "id": "30fa2eb7-6c6f-4399-ab8d-e4d30701110c",
   "metadata": {},
   "outputs": [
    {
     "name": "stdout",
     "output_type": "stream",
     "text": [
      "Products Data\n",
      "  ProductID              ProductName     Category   Price\n",
      "0      P001     ActiveWear Biography        Books  169.30\n",
      "1      P002    ActiveWear Smartwatch  Electronics  346.30\n",
      "2      P003  ComfortLiving Biography        Books   44.12\n",
      "3      P004            BookWorld Rug   Home Decor   95.69\n",
      "4      P005          TechPro T-Shirt     Clothing  429.31\n"
     ]
    }
   ],
   "source": [
    "print(\"Products Data\")\n",
    "print(products.head())"
   ]
  },
  {
   "cell_type": "code",
   "execution_count": 5,
   "id": "7442972b-9b4b-4e04-a8a3-680e827c6edc",
   "metadata": {},
   "outputs": [
    {
     "name": "stdout",
     "output_type": "stream",
     "text": [
      "Transactions Data\n",
      "  TransactionID CustomerID ProductID      TransactionDate  Quantity  \\\n",
      "0        T00001      C0199      P067  2024-08-25 12:38:23         1   \n",
      "1        T00112      C0146      P067  2024-05-27 22:23:54         1   \n",
      "2        T00166      C0127      P067  2024-04-25 07:38:55         1   \n",
      "3        T00272      C0087      P067  2024-03-26 22:55:37         2   \n",
      "4        T00363      C0070      P067  2024-03-21 15:10:10         3   \n",
      "\n",
      "   TotalValue   Price  \n",
      "0      300.68  300.68  \n",
      "1      300.68  300.68  \n",
      "2      300.68  300.68  \n",
      "3      601.36  300.68  \n",
      "4      902.04  300.68  \n"
     ]
    }
   ],
   "source": [
    "print(\"Transactions Data\")\n",
    "print(transactions.head())"
   ]
  },
  {
   "cell_type": "markdown",
   "id": "63ae2a17-3a60-4b07-82d9-89f61e4039ed",
   "metadata": {},
   "source": [
    "MERGING ALL DATASETS"
   ]
  },
  {
   "cell_type": "code",
   "execution_count": 6,
   "id": "f006785e-abc5-48aa-9871-dd2b2ba73680",
   "metadata": {},
   "outputs": [
    {
     "name": "stdout",
     "output_type": "stream",
     "text": [
      "  TransactionID CustomerID ProductID      TransactionDate  Quantity  \\\n",
      "0        T00001      C0199      P067  2024-08-25 12:38:23         1   \n",
      "1        T00112      C0146      P067  2024-05-27 22:23:54         1   \n",
      "2        T00166      C0127      P067  2024-04-25 07:38:55         1   \n",
      "3        T00272      C0087      P067  2024-03-26 22:55:37         2   \n",
      "4        T00363      C0070      P067  2024-03-21 15:10:10         3   \n",
      "\n",
      "   TotalValue  Price_x                      ProductName     Category  Price_y  \\\n",
      "0      300.68   300.68  ComfortLiving Bluetooth Speaker  Electronics   300.68   \n",
      "1      300.68   300.68  ComfortLiving Bluetooth Speaker  Electronics   300.68   \n",
      "2      300.68   300.68  ComfortLiving Bluetooth Speaker  Electronics   300.68   \n",
      "3      601.36   300.68  ComfortLiving Bluetooth Speaker  Electronics   300.68   \n",
      "4      902.04   300.68  ComfortLiving Bluetooth Speaker  Electronics   300.68   \n",
      "\n",
      "      CustomerName         Region  SignupDate  \n",
      "0   Andrea Jenkins         Europe  2022-12-03  \n",
      "1  Brittany Harvey           Asia  2024-09-04  \n",
      "2  Kathryn Stevens         Europe  2024-04-04  \n",
      "3  Travis Campbell  South America  2024-04-11  \n",
      "4    Timothy Perez         Europe  2022-03-15  \n",
      "(1000, 13)\n"
     ]
    }
   ],
   "source": [
    "transactions_products = transactions.merge(products, on='ProductID')\n",
    "customer_transactions_products = transactions_products.merge(customers, on='CustomerID')\n",
    "print(customer_transactions_products.head())\n",
    "print(customer_transactions_products.shape)"
   ]
  },
  {
   "cell_type": "code",
   "execution_count": 7,
   "id": "ee16a05a-eafc-45a8-9832-fa454a6ab6b6",
   "metadata": {},
   "outputs": [
    {
     "name": "stdout",
     "output_type": "stream",
     "text": [
      "<class 'pandas.core.frame.DataFrame'>\n",
      "RangeIndex: 1000 entries, 0 to 999\n",
      "Data columns (total 13 columns):\n",
      " #   Column           Non-Null Count  Dtype  \n",
      "---  ------           --------------  -----  \n",
      " 0   TransactionID    1000 non-null   object \n",
      " 1   CustomerID       1000 non-null   object \n",
      " 2   ProductID        1000 non-null   object \n",
      " 3   TransactionDate  1000 non-null   object \n",
      " 4   Quantity         1000 non-null   int64  \n",
      " 5   TotalValue       1000 non-null   float64\n",
      " 6   Price_x          1000 non-null   float64\n",
      " 7   ProductName      1000 non-null   object \n",
      " 8   Category         1000 non-null   object \n",
      " 9   Price_y          1000 non-null   float64\n",
      " 10  CustomerName     1000 non-null   object \n",
      " 11  Region           1000 non-null   object \n",
      " 12  SignupDate       1000 non-null   object \n",
      "dtypes: float64(3), int64(1), object(9)\n",
      "memory usage: 101.7+ KB\n",
      "None\n"
     ]
    }
   ],
   "source": [
    "print(customer_transactions_products.info())"
   ]
  },
  {
   "cell_type": "markdown",
   "id": "9b4cb858-731b-452a-b3e8-9367246e9c3f",
   "metadata": {},
   "source": [
    "FEATURE ENGINEERING "
   ]
  },
  {
   "cell_type": "markdown",
   "id": "a65f8980-4746-43d7-9d5c-49d4086b5c36",
   "metadata": {},
   "source": [
    "EXTRACTING FEATURES LIKE Spending habits, Purchase behavior, Activity level and Profile information."
   ]
  },
  {
   "cell_type": "code",
   "execution_count": 8,
   "id": "dafd2869-5f43-4189-a2fc-c71c3f2942c7",
   "metadata": {},
   "outputs": [],
   "source": [
    "customer_features = customer_transactions_products.groupby('CustomerID').agg(\n",
    "    total_spent=pd.NamedAgg(column='TotalValue', aggfunc='sum'),\n",
    "    avg_transaction_value=pd.NamedAgg(column='TotalValue', aggfunc='mean'),\n",
    "    transaction_count=pd.NamedAgg(column='TransactionID', aggfunc='count'),\n",
    "    distinct_products=pd.NamedAgg(column='ProductID', aggfunc='nunique'),\n",
    "    categories_bought=pd.NamedAgg(column='Category', aggfunc='nunique')\n",
    ").reset_index()"
   ]
  },
  {
   "cell_type": "code",
   "execution_count": 9,
   "id": "d662fbe4-b592-4ff9-8bd5-7aea9641379e",
   "metadata": {},
   "outputs": [],
   "source": [
    "customer_features = customer_features.merge(customers[['CustomerID', 'Region', 'SignupDate']], on='CustomerID')"
   ]
  },
  {
   "cell_type": "code",
   "execution_count": 10,
   "id": "79371a65-e37e-4ae4-a53c-69417e92675a",
   "metadata": {},
   "outputs": [
    {
     "name": "stdout",
     "output_type": "stream",
     "text": [
      "  CustomerID  total_spent  avg_transaction_value  transaction_count  \\\n",
      "0      C0001      3354.52                670.904                  5   \n",
      "1      C0002      1862.74                465.685                  4   \n",
      "2      C0003      2725.38                681.345                  4   \n",
      "3      C0004      5354.88                669.360                  8   \n",
      "4      C0005      2034.24                678.080                  3   \n",
      "\n",
      "   distinct_products  categories_bought         Region SignupDate  \\\n",
      "0                  5                  3  South America 2022-07-10   \n",
      "1                  4                  2           Asia 2022-02-13   \n",
      "2                  4                  3  South America 2024-03-07   \n",
      "3                  8                  3  South America 2022-10-09   \n",
      "4                  3                  2           Asia 2022-08-15   \n",
      "\n",
      "   days_since_signup  \n",
      "0                931  \n",
      "1               1078  \n",
      "2                325  \n",
      "3                840  \n",
      "4                895  \n"
     ]
    }
   ],
   "source": [
    "customer_features['SignupDate'] = pd.to_datetime(customer_features['SignupDate'])\n",
    "customer_features['days_since_signup'] = (pd.Timestamp.now() - customer_features['SignupDate']).dt.days\n",
    "print(customer_features.head())"
   ]
  },
  {
   "cell_type": "code",
   "execution_count": 11,
   "id": "8a82968a-e135-4577-8e9e-2f303f3fb8c1",
   "metadata": {},
   "outputs": [
    {
     "name": "stdout",
     "output_type": "stream",
     "text": [
      "  CustomerID  total_spent  avg_transaction_value  transaction_count  \\\n",
      "0      C0001      3354.52                670.904                  5   \n",
      "1      C0002      1862.74                465.685                  4   \n",
      "2      C0003      2725.38                681.345                  4   \n",
      "3      C0004      5354.88                669.360                  8   \n",
      "4      C0005      2034.24                678.080                  3   \n",
      "\n",
      "   distinct_products  categories_bought         Region  days_since_signup  \n",
      "0                  5                  3  South America                931  \n",
      "1                  4                  2           Asia               1078  \n",
      "2                  4                  3  South America                325  \n",
      "3                  8                  3  South America                840  \n",
      "4                  3                  2           Asia                895  \n"
     ]
    }
   ],
   "source": [
    "customer_features.drop(columns=['SignupDate'], inplace=True)\n",
    "print(customer_features.head())"
   ]
  },
  {
   "cell_type": "markdown",
   "id": "014e85d8-7ed1-4e8b-8d02-5143e37a930f",
   "metadata": {},
   "source": [
    "NORMALIZING FEATURES"
   ]
  },
  {
   "cell_type": "code",
   "execution_count": 12,
   "id": "04ce1180-d5e9-4bbe-8215-8e03dbec66e7",
   "metadata": {},
   "outputs": [
    {
     "name": "stdout",
     "output_type": "stream",
     "text": [
      "Requirement already satisfied: scikit-learn in c:\\users\\renu shree\\appdata\\local\\programs\\python\\python312\\lib\\site-packages (1.6.1)\n",
      "Requirement already satisfied: numpy>=1.19.5 in c:\\users\\renu shree\\appdata\\local\\programs\\python\\python312\\lib\\site-packages (from scikit-learn) (2.2.2)\n",
      "Requirement already satisfied: scipy>=1.6.0 in c:\\users\\renu shree\\appdata\\local\\programs\\python\\python312\\lib\\site-packages (from scikit-learn) (1.15.1)\n",
      "Requirement already satisfied: joblib>=1.2.0 in c:\\users\\renu shree\\appdata\\local\\programs\\python\\python312\\lib\\site-packages (from scikit-learn) (1.4.2)\n",
      "Requirement already satisfied: threadpoolctl>=3.1.0 in c:\\users\\renu shree\\appdata\\local\\programs\\python\\python312\\lib\\site-packages (from scikit-learn) (3.5.0)\n"
     ]
    },
    {
     "name": "stderr",
     "output_type": "stream",
     "text": [
      "\n",
      "[notice] A new release of pip is available: 24.2 -> 24.3.1\n",
      "[notice] To update, run: python.exe -m pip install --upgrade pip\n"
     ]
    }
   ],
   "source": [
    "!pip install scikit-learn"
   ]
  },
  {
   "cell_type": "code",
   "execution_count": 13,
   "id": "ba147b48-0c1a-4958-8fdd-96a6e10b91a1",
   "metadata": {},
   "outputs": [
    {
     "name": "stdout",
     "output_type": "stream",
     "text": [
      "  CustomerID  total_spent  avg_transaction_value  transaction_count  \\\n",
      "0      C0001     0.308942               0.474336                0.4   \n",
      "1      C0002     0.168095               0.308940                0.3   \n",
      "2      C0003     0.249541               0.482751                0.3   \n",
      "3      C0004     0.497806               0.473092                0.7   \n",
      "4      C0005     0.184287               0.480120                0.2   \n",
      "\n",
      "   distinct_products  categories_bought         Region  days_since_signup  \n",
      "0           0.444444           0.666667  South America           0.842204  \n",
      "1           0.333333           0.333333           Asia           0.979458  \n",
      "2           0.333333           0.666667  South America           0.276377  \n",
      "3           0.777778           0.666667  South America           0.757236  \n",
      "4           0.222222           0.333333           Asia           0.808590  \n"
     ]
    }
   ],
   "source": [
    "from sklearn.preprocessing import MinMaxScaler\n",
    "numerical_cols = ['total_spent', 'avg_transaction_value', 'transaction_count', 'distinct_products', 'categories_bought', 'days_since_signup']\n",
    "scaler = MinMaxScaler()\n",
    "customer_features[numerical_cols] = scaler.fit_transform(customer_features[numerical_cols])\n",
    "print(customer_features.head())"
   ]
  },
  {
   "cell_type": "markdown",
   "id": "94993f6d-c20c-4fba-9d7f-439fec74551e",
   "metadata": {},
   "source": [
    "CALCULATING SIMILARITY SCORES"
   ]
  },
  {
   "cell_type": "code",
   "execution_count": 14,
   "id": "3a2bd8ae-6570-4906-8454-fd952c6c1f1c",
   "metadata": {},
   "outputs": [
    {
     "name": "stdout",
     "output_type": "stream",
     "text": [
      "CustomerID     C0001     C0002     C0003     C0004     C0005     C0006  \\\n",
      "CustomerID                                                               \n",
      "C0001       1.000000  0.946882  0.916777  0.958777  0.954676  0.888789   \n",
      "C0002       0.946882  1.000000  0.742949  0.875756  0.973644  0.724595   \n",
      "C0003       0.916777  0.742949  1.000000  0.910060  0.803829  0.974541   \n",
      "C0004       0.958777  0.875756  0.910060  1.000000  0.862280  0.872022   \n",
      "C0005       0.954676  0.973644  0.803829  0.862280  1.000000  0.822160   \n",
      "\n",
      "CustomerID     C0007     C0008     C0009     C0010  ...     C0191     C0192  \\\n",
      "CustomerID                                          ...                       \n",
      "C0001       0.937552  0.832701  0.986637  0.979774  ...  0.896276  0.991047   \n",
      "C0002       0.949249  0.672084  0.966146  0.987797  ...  0.763949  0.945439   \n",
      "C0003       0.803144  0.889938  0.864651  0.825901  ...  0.930660  0.899014   \n",
      "C0004       0.844387  0.928800  0.930558  0.937100  ...  0.964941  0.923287   \n",
      "C0005       0.995178  0.642431  0.947871  0.967987  ...  0.793332  0.946749   \n",
      "\n",
      "CustomerID     C0193     C0194     C0195     C0196     C0197     C0198  \\\n",
      "CustomerID                                                               \n",
      "C0001       0.858451  0.851657  0.826208  0.939640  0.973071  0.886148   \n",
      "C0002       0.893081  0.656446  0.620556  0.872084  0.952206  0.965823   \n",
      "C0003       0.707708  0.953851  0.953437  0.900131  0.869727  0.665279   \n",
      "C0004       0.846295  0.909164  0.905947  0.861205  0.899150  0.745849   \n",
      "C0005       0.920474  0.667350  0.660374  0.952181  0.991625  0.962074   \n",
      "\n",
      "CustomerID     C0199     C0200  \n",
      "CustomerID                      \n",
      "C0001       0.982293  0.939587  \n",
      "C0002       0.985471  0.783123  \n",
      "C0003       0.836438  0.994903  \n",
      "C0004       0.938185  0.915813  \n",
      "C0005       0.976710  0.841921  \n",
      "\n",
      "[5 rows x 199 columns]\n"
     ]
    }
   ],
   "source": [
    "from sklearn.metrics.pairwise import cosine_similarity\n",
    "import numpy as np\n",
    "feature_matrix = customer_features[numerical_cols].values\n",
    "similarity_matrix = cosine_similarity(feature_matrix)\n",
    "similarity_df = pd.DataFrame(similarity_matrix, index=customer_features['CustomerID'], columns=customer_features['CustomerID'])\n",
    "print(similarity_df.head())"
   ]
  },
  {
   "cell_type": "markdown",
   "id": "6c33d999-4991-4efe-8a13-6cc0feba7fb1",
   "metadata": {},
   "source": [
    "TOP 3 RECOMMENDATION GENERATION"
   ]
  },
  {
   "cell_type": "code",
   "execution_count": 15,
   "id": "834de6c5-905b-4176-999b-8dda187e492c",
   "metadata": {},
   "outputs": [],
   "source": [
    "def get_top_n_similar(similarity_df, n=3):\n",
    "    recommendations = {}\n",
    "    for cust_id in similarity_df.index:\n",
    "        similar_customers = similarity_df.loc[cust_id].drop(cust_id).sort_values(ascending=False).head(n)\n",
    "        recommendations[cust_id] = list(zip(similar_customers.index, similar_customers.values))\n",
    "    return recommendations"
   ]
  },
  {
   "cell_type": "markdown",
   "id": "cb9d49aa-8e22-424f-b1d6-a2e305086001",
   "metadata": {},
   "source": [
    "FOR FIRST 20 CUSTOMERS (CustomerID: C0001 - C0020)"
   ]
  },
  {
   "cell_type": "code",
   "execution_count": 16,
   "id": "80742f4b-f178-4b12-b0b6-b2809ee0e4a8",
   "metadata": {},
   "outputs": [
    {
     "name": "stdout",
     "output_type": "stream",
     "text": [
      "{'C0001': [('C0152', np.float64(0.9991413126016656)), ('C0106', np.float64(0.998440884683327)), ('C0174', np.float64(0.9972952693891033))], 'C0002': [('C0071', np.float64(0.9941366378317117)), ('C0134', np.float64(0.9920668372260568)), ('C0038', np.float64(0.9886562124462539))], 'C0003': [('C0170', np.float64(0.9971037326344968)), ('C0177', np.float64(0.9965184620552714)), ('C0178', np.float64(0.9954984703465475))], 'C0004': [('C0108', np.float64(0.9967662274809577)), ('C0175', np.float64(0.9932902636506894)), ('C0155', np.float64(0.9927794835384522))], 'C0005': [('C0159', np.float64(0.9999773928810057)), ('C0073', np.float64(0.9999652022442802)), ('C0112', np.float64(0.9993636535401836))], 'C0006': [('C0026', np.float64(0.9934115643934283)), ('C0185', np.float64(0.9873659889975546)), ('C0148', np.float64(0.9834797940131053))], 'C0007': [('C0176', np.float64(0.9961186063771026)), ('C0073', np.float64(0.9958664745081781)), ('C0159', np.float64(0.995769958178055))], 'C0008': [('C0047', np.float64(0.9973253695238418)), ('C0172', np.float64(0.990236877961611)), ('C0049', np.float64(0.9891482020472193))], 'C0009': [('C0103', np.float64(0.9981474396483612)), ('C0077', np.float64(0.9977653980496765)), ('C0025', np.float64(0.9945433797610744))], 'C0010': [('C0199', np.float64(0.9985598562556507)), ('C0038', np.float64(0.9958033516549093)), ('C0134', np.float64(0.9949535836962318))], 'C0011': [('C0107', np.float64(0.9994471011092134)), ('C0045', np.float64(0.9958840582141082)), ('C0053', np.float64(0.9958686021863092))], 'C0012': [('C0013', np.float64(0.9958242508779468)), ('C0195', np.float64(0.9949753746892673)), ('C0059', np.float64(0.9944611050422071))], 'C0013': [('C0087', np.float64(0.9986358199426896)), ('C0012', np.float64(0.9958242508779468)), ('C0126', np.float64(0.9921402397128789))], 'C0014': [('C0058', np.float64(0.9897474293288872)), ('C0130', np.float64(0.9806283657622872)), ('C0040', np.float64(0.9479020575697767))], 'C0015': [('C0123', np.float64(0.9950911941920044)), ('C0074', np.float64(0.9945177652495846)), ('C0196', np.float64(0.9857804951457589))], 'C0016': [('C0183', np.float64(0.9998856287386702)), ('C0064', np.float64(0.998543864300922)), ('C0056', np.float64(0.9933012618166364))], 'C0017': [('C0127', np.float64(0.997007197469509)), ('C0090', np.float64(0.9962465606873557)), ('C0024', np.float64(0.9960722494068813))], 'C0018': [('C0187', np.float64(0.99902263761423)), ('C0138', np.float64(0.9899283997294084)), ('C0114', np.float64(0.9881334196251815))], 'C0019': [('C0139', np.float64(0.9928048683241701)), ('C0004', np.float64(0.9718034028677212)), ('C0108', np.float64(0.9677985328728518))], 'C0020': [('C0151', np.float64(0.9998519258488705)), ('C0080', np.float64(0.993193077547368)), ('C0110', np.float64(0.9906294752818718))]}\n"
     ]
    }
   ],
   "source": [
    "top_n_recommendations = get_top_n_similar(similarity_df.loc['C0001':'C0020'], n=3)\n",
    "print(top_n_recommendations)"
   ]
  },
  {
   "cell_type": "markdown",
   "id": "0f621ce5-0f7f-4283-98af-fe82639232a2",
   "metadata": {},
   "source": [
    "SAVING OUTPUT TO CSV"
   ]
  },
  {
   "cell_type": "code",
   "execution_count": 20,
   "id": "0aac46f8-5a75-414a-9535-c6351698cf8b",
   "metadata": {},
   "outputs": [
    {
     "name": "stdout",
     "output_type": "stream",
     "text": [
      "Renu_Shree_Lookalike.csv saved successfully!\n"
     ]
    }
   ],
   "source": [
    "output = []\n",
    "for cust_id, lookalikes in top_n_recommendations.items():\n",
    "    lookalike_list = [(str(other_cust_id), float(f\"{score:.4f}\")) for other_cust_id, score in lookalikes]\n",
    "    output.append({'cust_id': cust_id, 'lookalikes': lookalike_list})\n",
    "lookalike_df = pd.DataFrame(output)\n",
    "lookalike_df.to_csv('Renu_Shree_Lookalike.csv', index=False)\n",
    "print(\"Renu_Shree_Lookalike.csv saved successfully!\")"
   ]
  },
  {
   "cell_type": "code",
   "execution_count": null,
   "id": "5ee34cb6-5932-406e-8177-728394ae4712",
   "metadata": {},
   "outputs": [],
   "source": []
  }
 ],
 "metadata": {
  "kernelspec": {
   "display_name": "Python 3 (ipykernel)",
   "language": "python",
   "name": "python3"
  },
  "language_info": {
   "codemirror_mode": {
    "name": "ipython",
    "version": 3
   },
   "file_extension": ".py",
   "mimetype": "text/x-python",
   "name": "python",
   "nbconvert_exporter": "python",
   "pygments_lexer": "ipython3",
   "version": "3.12.5"
  }
 },
 "nbformat": 4,
 "nbformat_minor": 5
}
